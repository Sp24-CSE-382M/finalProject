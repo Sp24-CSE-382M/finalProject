{
 "cells": [
  {
   "cell_type": "code",
   "execution_count": 17,
   "metadata": {},
   "outputs": [],
   "source": [
    "import numpy as np\n",
    "from matplotlib import pyplot as plt\n",
    "from sklearn.cluster import k_means\n",
    "\n",
    "def loadData(dataDir, time = 500):\n",
    "    dataset = np.load(dataDir)\n",
    "    labels = dataset['arr_0'][:, :, 1:-1] # ignore the first row of labels (all 0)\n",
    "    properties = dataset['arr_1']\n",
    "    if time >= 0:\n",
    "        x = properties[:, :, time]\n",
    "        y = labels[:, :, time]\n",
    "    else:\n",
    "        x = np.reshape(properties, [properties.shape[0], properties.shape[1] * properties.shape[2]])\n",
    "        y = np.reshape(labels, [labels.shape[0], labels.shape[1] * labels.shape[2]])\n",
    "    return x, y\n",
    "\n"
   ]
  },
  {
   "cell_type": "code",
   "execution_count": 20,
   "metadata": {},
   "outputs": [],
   "source": [
    "dataDir = '../data/dataset.npz'\n",
    "xtrain, ytrain = loadData(dataDir, time = 200)"
   ]
  },
  {
   "cell_type": "code",
   "execution_count": 12,
   "metadata": {},
   "outputs": [],
   "source": [
    "a = np.random.randint(0, 10, size = [3, 3, 3])\n",
    "aa = np.reshape(a, (3, 9), order = 'F')"
   ]
  }
 ],
 "metadata": {
  "kernelspec": {
   "display_name": "base",
   "language": "python",
   "name": "python3"
  },
  "language_info": {
   "codemirror_mode": {
    "name": "ipython",
    "version": 3
   },
   "file_extension": ".py",
   "mimetype": "text/x-python",
   "name": "python",
   "nbconvert_exporter": "python",
   "pygments_lexer": "ipython3",
   "version": "3.11.5"
  }
 },
 "nbformat": 4,
 "nbformat_minor": 2
}
