{
 "cells": [
  {
   "cell_type": "code",
   "execution_count": 37,
   "metadata": {},
   "outputs": [],
   "source": [
    "import numpy as np\n",
    "import os\n",
    "import h5py\n",
    "\n",
    "# this function return the raw labels, sink IDs and corresponding gas properties\n",
    "def loadData(labelDir, propertiesDir):\n",
    "    with h5py.File(labelDir, 'r') as f:\n",
    "        sink_IDs = f['sink_IDs'][()] # sink IDs for each simulations; shape (212, )\n",
    "        labels = f['labels'][()] # labels for the final stellar system (0, 1, 2, 3, 4) at different time snapshots;shape (751, 212)\n",
    "        sink_data_dict = dict.fromkeys(sink_IDs.astype(np.int64))\n",
    "    with h5py.File(propertiesDir, 'r') as f:\n",
    "        for sink_ID in sink_IDs:\n",
    "            sink_label = 'sink_{0:d}'.format(sink_ID)\n",
    "            sink_data_dict[sink_ID] = f[sink_label][()] # directory contains the physical properties for each simulations; \n",
    "    return labels, sink_IDs, sink_data_dict\n",
    "\n",
    "def getDataset(rawLabels, sink_IDs, sink_data_dict):\n",
    "    labels = np.ones((1, rawLabels.shape[1], rawLabels.shape[0]))# the labels are reshaped into (1, 212, 751) -- 212 simulations; 751 snapshots\n",
    "    labels[0, :, :] = np.transpose(rawLabels)\n",
    "    d = sink_data_dict[sink_IDs[0]].shape[1] - 4 # dimension of the data vector (number of properties); last 4 row excluded (dummy data and time)\n",
    "    n = len(sink_data_dict) # number of data in the data set (num of simulations)\n",
    "    t = sink_data_dict[sink_IDs[0]].shape[0] # number of snapshots\n",
    "\n",
    "    properties = np.ones((d, n, t)) \n",
    "    ''' the properties are shaped into (26, 212, 751), where each the depth representing the snapshot; data vector representing by each colum. '''\n",
    "    \n",
    "    for i in range(0, len(sink_IDs)):\n",
    "        properties[:, i, :] = np.transpose(sink_data_dict[sink_IDs[i]][:, 0:-4])\n",
    "    \n",
    "    return labels, properties\n"
   ]
  },
  {
   "cell_type": "code",
   "execution_count": 38,
   "metadata": {},
   "outputs": [],
   "source": [
    "labelDir = 'sim_1_sink_system_labels.hdf5'\n",
    "propertiesDir = 'sim_1_all_accreted_gas_properties.hdf5'\n",
    "rawLabels, sink_IDs, sink_data_dict = loadData(labelDir, propertiesDir)\n",
    "labels, properties = getDataset(rawLabels, sink_IDs, sink_data_dict)"
   ]
  },
  {
   "cell_type": "code",
   "execution_count": null,
   "metadata": {},
   "outputs": [],
   "source": []
  }
 ],
 "metadata": {
  "kernelspec": {
   "display_name": "base",
   "language": "python",
   "name": "python3"
  },
  "language_info": {
   "codemirror_mode": {
    "name": "ipython",
    "version": 3
   },
   "file_extension": ".py",
   "mimetype": "text/x-python",
   "name": "python",
   "nbconvert_exporter": "python",
   "pygments_lexer": "ipython3",
   "version": "3.11.5"
  }
 },
 "nbformat": 4,
 "nbformat_minor": 2
}
